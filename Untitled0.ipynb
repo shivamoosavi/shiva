{
  "nbformat": 4,
  "nbformat_minor": 0,
  "metadata": {
    "colab": {
      "name": "Untitled0.ipynb",
      "provenance": [],
      "collapsed_sections": [],
      "authorship_tag": "ABX9TyOXYbyvYiQ+CuJMNaWyL18H",
      "include_colab_link": true
    },
    "kernelspec": {
      "name": "python3",
      "display_name": "Python 3"
    }
  },
  "cells": [
    {
      "cell_type": "markdown",
      "metadata": {
        "id": "view-in-github",
        "colab_type": "text"
      },
      "source": [
        "<a href=\"https://colab.research.google.com/github/shivamoosavi/shiva/blob/main/Untitled0.ipynb\" target=\"_parent\"><img src=\"https://colab.research.google.com/assets/colab-badge.svg\" alt=\"Open In Colab\"/></a>"
      ]
    },
    {
      "cell_type": "code",
      "metadata": {
        "id": "q-jx1rJ8Oeks",
        "outputId": "4b6a3e58-3aad-4335-fea8-e199a4a70833",
        "colab": {
          "base_uri": "https://localhost:8080/",
          "height": 54
        }
      },
      "source": [
        "import requests\n",
        "query = {'apikey': \"0b16f82e-1b00-432c-bdd8-4fcbc3026c0a\",\n",
        "    'name': \"names\",\n",
        "    'birthplace': \"birthplaces\",\n",
        "    'classification': \"British\"};\n",
        "url = 'https://api.harvardartmuseums.org/person';\n",
        "response = requests.get(url, params=query)\n",
        "response.status_code\n",
        "data = response.json()\n",
        "print(data)\n"
      ],
      "execution_count": null,
      "outputs": [
        {
          "output_type": "stream",
          "text": [
            "{'info': {'totalrecordsperquery': 10, 'totalrecords': 39675, 'pages': 3968, 'page': 1, 'next': 'https://api.harvardartmuseums.org/person?apikey=0b16f82e-1b00-432c-bdd8-4fcbc3026c0a&name=names&birthplace=birthplaces&classification=British&page=2'}, 'records': [{'gender': 'unknown', 'displaydate': None, 'objectcount': 0, 'dateend': 0, 'url': 'https://www.harvardartmuseums.org/collections/person/423', 'birthplace': None, 'datebegin': 0, 'culture': None, 'displayname': 'McGraw-Hill Higher Education', 'alphasort': 'McGraw-Hill Higher Education', 'personid': 423, 'deathplace': None, 'id': 423, 'lastupdate': '2020-09-16T04:48:00-0400'}, {'gender': 'unknown', 'displaydate': None, 'objectcount': 0, 'dateend': 0, 'url': 'https://www.harvardartmuseums.org/collections/person/485', 'birthplace': None, 'datebegin': 0, 'culture': None, 'displayname': 'William Hayes Ackland Memorial Art Museum', 'alphasort': 'Ackland Art Museum', 'personid': 485, 'deathplace': None, 'id': 485, 'lastupdate': '2020-09-16T04:48:01-0400'}, {'gender': 'unknown', 'displaydate': None, 'objectcount': 0, 'dateend': 0, 'url': 'https://www.harvardartmuseums.org/collections/person/1564', 'birthplace': None, 'datebegin': 0, 'culture': None, 'displayname': 'Mrs. J. Louis Ransohoff', 'alphasort': 'Ransohoff, J. Louis Mrs.', 'personid': 1564, 'deathplace': None, 'id': 1564, 'lastupdate': '2020-09-16T04:48:01-0400'}, {'gender': 'unknown', 'displaydate': None, 'objectcount': 0, 'dateend': 0, 'url': 'https://www.harvardartmuseums.org/collections/person/1589', 'birthplace': None, 'datebegin': 0, 'culture': None, 'displayname': 'Sperone Westwater', 'alphasort': 'Sperone Westwater', 'personid': 1589, 'deathplace': None, 'id': 1589, 'lastupdate': '2020-09-16T04:48:01-0400'}, {'gender': 'unknown', 'displaydate': None, 'objectcount': 0, 'dateend': 0, 'url': 'https://www.harvardartmuseums.org/collections/person/204', 'birthplace': None, 'datebegin': 0, 'culture': None, 'displayname': 'Melissa Katz', 'alphasort': 'Katz, Melissa', 'personid': 204, 'deathplace': None, 'id': 204, 'lastupdate': '2020-09-16T04:48:01-0400'}, {'gender': 'unknown', 'displaydate': None, 'objectcount': 0, 'dateend': 0, 'url': 'https://www.harvardartmuseums.org/collections/person/468', 'birthplace': None, 'datebegin': 0, 'culture': None, 'displayname': 'David McCullough', 'alphasort': 'McCullough, David', 'personid': 468, 'deathplace': None, 'id': 468, 'lastupdate': '2020-09-16T04:48:01-0400'}, {'gender': 'unknown', 'displaydate': None, 'objectcount': 0, 'dateend': 0, 'url': 'https://www.harvardartmuseums.org/collections/person/922', 'birthplace': None, 'datebegin': 0, 'culture': None, 'displayname': 'Kerry Schauber', 'alphasort': 'Schauber, Kerry', 'personid': 922, 'deathplace': None, 'id': 922, 'lastupdate': '2020-09-16T04:48:02-0400'}, {'gender': 'unknown', 'displaydate': None, 'objectcount': 0, 'dateend': 0, 'url': 'https://www.harvardartmuseums.org/collections/person/1254', 'birthplace': None, 'datebegin': 0, 'culture': None, 'displayname': 'Dr. Sanford Gifford', 'alphasort': 'Gifford, Sanford Dr.', 'personid': 1254, 'deathplace': None, 'id': 1254, 'lastupdate': '2020-09-16T04:48:02-0400'}, {'gender': 'unknown', 'displaydate': None, 'objectcount': 0, 'dateend': 0, 'url': 'https://www.harvardartmuseums.org/collections/person/265', 'birthplace': None, 'datebegin': 0, 'culture': None, 'displayname': 'Hugo Chapman', 'alphasort': 'Chapman, Hugo', 'personid': 265, 'deathplace': None, 'id': 265, 'lastupdate': '2020-09-16T04:48:02-0400'}, {'gender': 'unknown', 'displaydate': None, 'objectcount': 0, 'dateend': 0, 'url': 'https://www.harvardartmuseums.org/collections/person/397', 'birthplace': None, 'datebegin': 0, 'culture': None, 'displayname': 'Sheldon Peck', 'alphasort': 'Peck, Sheldon', 'personid': 397, 'deathplace': None, 'id': 397, 'lastupdate': '2020-09-16T04:48:02-0400'}]}\n"
          ],
          "name": "stdout"
        }
      ]
    }
  ]
}